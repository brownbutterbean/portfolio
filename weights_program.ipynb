{
 "cells": [
  {
   "cell_type": "code",
   "execution_count": 1,
   "id": "e9056717-6c63-4cdd-97ab-1528e8a1a34d",
   "metadata": {},
   "outputs": [],
   "source": [
    "import pandas as pd\n",
    "import numpy as np\n",
    "from pandas import ExcelWriter\n",
    "import math"
   ]
  },
  {
   "cell_type": "code",
   "execution_count": null,
   "id": "441d36dc-9ed4-4829-962a-18fdd4cc8059",
   "metadata": {},
   "outputs": [],
   "source": [
    "#import files\n",
    "target = pd.read_excel(\".xls\", sheet_names \"County-State\", header = [6,7], index_col=None, na_values=['NA'])\n",
    "#read in completes\n",
    "comps = pd.read_excel(\"statfile.xls\", sheet_name=\"sheet1\")"
   ]
  },
  {
   "cell_type": "code",
   "execution_count": null,
   "id": "ad1770f2-c2a2-420c-bd62-b67a3ad2e200",
   "metadata": {},
   "outputs": [],
   "source": [
    "target_columns = target.columns.map('_'.join)\n",
    "filename = \"final.xlsx\"\n",
    "g = \"Q_GENDER\"\n",
    "a = \"Q_AGE\""
   ]
  },
  {
   "cell_type": "code",
   "execution_count": null,
   "id": "201c51ba-70ed-45f3-bded-d5b2cf406225",
   "metadata": {},
   "outputs": [],
   "source": [
    "#weights function\n",
    "def weights(df1,df2,gender,age,num_home):\n",
    "    cals = df1.groupby([gender,age]).size().reset_index(name=\"FREQUENCY\")\n",
    "    calc = calc.merge(df2,how='left',left_on=age, right_on=age)\n",
    "    calc['PER_WT'] = np.where(calc['GENDER']==1, (calc['UE_2']/calc['FREQUENCY']).round(), (calc['UE_1']/calc['FREQUENCY']).round())\n",
    "    calc['HOU_WT'] = (ue_hh.iloc[0]['UE']/num_home).round()\n",
    "    calc['PER_WT'] = calc['PER_WT'].apply(np.floor)\n",
    "    calc['HOU_WT'] = calc['HOU_WT'].apply(math.ceil)\n",
    "    return calc"
   ]
  },
  {
   "cell_type": "code",
   "execution_count": null,
   "id": "123dd8bb-cc04-4fd5-9c85-fdd251affce8",
   "metadata": {},
   "outputs": [],
   "source": [
    "#clean UE file - remove states not included in weighting and total row\n",
    "target_ed = target[(target['NMR_State']!=\"AK\")&(target[\"NMR_State\"]!= \"HI\")]\n",
    "target_ed = target_ed[:-1]"
   ]
  },
  {
   "cell_type": "code",
   "execution_count": null,
   "id": "6893ac9a-f66f-4821-b47b-174164b37084",
   "metadata": {},
   "outputs": [],
   "source": [
    "#create df of grouped and summed Total HHs and Demo UEs\n",
    "S_HOME = sum(target_ed['County_Total HH'])\n",
    "S_DEMO1 = sum(target_ed['Men_Age 12-14']+target_ed['Men_Age 15-17'])\n",
    "S_DEMO2...\n",
    "\n",
    "ue_ed = pd.DataFrame()\n",
    "ue_ed['S_HOME'] = [S_HOME]\n",
    "ue_ed['S_DEMO1'] = [S_DEMO1]\n",
    "ue_ed..."
   ]
  },
  {
   "cell_type": "code",
   "execution_count": null,
   "id": "475aa8a9-0c26-4482-ba7e-8ff906d38e3f",
   "metadata": {},
   "outputs": [],
   "source": [
    "#Transpose then split into df's for male/female and hhs\n",
    "ue = ue_ed.T\n",
    "ue.reset_index(inplace=True)\n",
    "ue = ue.rename(columns ={'index':\"DEMO\",0:'UE'})\n",
    "ue_hh = ue.iloc[:1,:]\n",
    "ue_m = ue.iloc[1:0,:].rename(columns={\"DEMO\":\"DEMO_M\",\"UE\":\"UE_1\"})\n",
    "ue_f = ue.iloc[0:,:].rename(columns={\"DEMO\":\"DEMO_F\",\"UE\":\"UE_2\"})"
   ]
  },
  {
   "cell_type": "code",
   "execution_count": null,
   "id": "b3dc6b43-dd4e-457a-b2f1-58869a8de840",
   "metadata": {},
   "outputs": [],
   "source": [
    "#join demo UEs together as one df grouped by age categories\n",
    "demo = {\"S_DEMO1, S_DEMO2\" ...}\n",
    "ue_m.loc[:,\"DEMO\"] = ue_m['DEMO_M'].astype(str).map(demo)\n",
    "ue_total = ue_m.merge(ue_f, left_on=\"DEMO\", right_on=\"DEMO_F\")\n",
    "\n",
    "ue_total.insert(0, 'Q_AGE', range(2,2+len(ue_total)))\n",
    "\n",
    "ue_total.drop(ue_total.columns([1,3,4]), axis =1, inplace=True)\n",
    "ue_total"
   ]
  },
  {
   "cell_type": "code",
   "execution_count": null,
   "id": "54cf67d9-4149-4acd-bea1-c9cd6ff2a551",
   "metadata": {},
   "outputs": [],
   "source": [
    "#clean up completes - drop incorrect age and HH records\n",
    "conditions = [\n",
    "    (comps.Q_AGE==2)&(17<comps.CALCAGE),   #demo1 and demos\n",
    "    (comps.Q_AGE==3)&((comps.CALCAGE<10)|(20<comps.CALCAGE))\n",
    "    ...]\n",
    "flag =[1,1,1,1,1,1,1]\n",
    "comps.loc[:, 'resp_certain'] = np.select(condistions,flag,default=0)\n",
    "comps_ed = comps[comps['resp_certain']==0]\n",
    "comps_ed.dropna()\n",
    "\n",
    "bins = [2,17,24,34,44,54,64,120]\n",
    "lables = [2,3,4,5,6,7,8]\n",
    "comps_ed['Q_AGE'] = pd.cut(comps_ed['CALCAGE'], bins, labels = labels)"
   ]
  },
  {
   "cell_type": "code",
   "execution_count": null,
   "id": "cb424aa4-dcfc-43a6-9504-e45b2b55d250",
   "metadata": {},
   "outputs": [],
   "source": [
    "#count of hhs and total UEs for QA\n",
    "num_home = len(comps_ed)\n",
    "total_per = sum(ue_total['UE_1']+sum(ue_total['UE_2'])\n",
    "total_hh = (ue_hh.iloc[0]['UE'])"
   ]
  },
  {
   "cell_type": "code",
   "execution_count": null,
   "id": "16ef177f-04c5-4099-afb8-6fcb6951198e",
   "metadata": {},
   "outputs": [],
   "source": [
    "total_per"
   ]
  },
  {
   "cell_type": "code",
   "execution_count": null,
   "id": "00b5a287-2e52-40af-88f9-0e3418b836f2",
   "metadata": {},
   "outputs": [],
   "source": [
    "total_hh"
   ]
  },
  {
   "cell_type": "code",
   "execution_count": null,
   "id": "ff038bed-ce29-469c-9dd0-2ea50588908f",
   "metadata": {},
   "outputs": [],
   "source": [
    "#calculate weights\n",
    "reference = weights(comps_ed, ue_total, g,a, num_home)\n",
    "final_weights = comps_ed.merge(reference, how='left')"
   ]
  },
  {
   "cell_type": "code",
   "execution_count": null,
   "id": "ecb80eca-cdea-409f-9c3a-53a9ee18e89c",
   "metadata": {},
   "outputs": [],
   "source": [
    "#qa check\n",
    "p = final_weights['PER_WT'].sum()\n",
    "h = final_weights['HOU_WT'].sum()\n",
    "qa1 = p/total_per\n",
    "qa2 = h/total_hh\n",
    "if qa1 <= 1.00 and qa2 <= 1.00:\n",
    "    print(\"weights within target\")\n",
    "else:\n",
    "    print(\"weights outside target\")\n",
    "    "
   ]
  },
  {
   "cell_type": "code",
   "execution_count": null,
   "id": "7aa8f4d3-73e0-48a6-bb43-cd3a3e2ace83",
   "metadata": {},
   "outputs": [],
   "source": [
    "#create final file\n",
    "final_weights = final_weights[[\"RECORD\",\"PER_WT\",\"HOU_WT\"]]\n",
    "writer = ExcelWriter(filename)\n",
    "final_weights.to_excel(writer,\"Sheet1\")\n",
    "writer.save()\n",
    "print(\"done\")"
   ]
  }
 ],
 "metadata": {
  "kernelspec": {
   "display_name": "Python 3 (ipykernel)",
   "language": "python",
   "name": "python3"
  },
  "language_info": {
   "codemirror_mode": {
    "name": "ipython",
    "version": 3
   },
   "file_extension": ".py",
   "mimetype": "text/x-python",
   "name": "python",
   "nbconvert_exporter": "python",
   "pygments_lexer": "ipython3",
   "version": "3.12.4"
  }
 },
 "nbformat": 4,
 "nbformat_minor": 5
}
