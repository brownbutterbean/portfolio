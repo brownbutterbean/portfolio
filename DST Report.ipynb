{
 "cells": [
  {
   "cell_type": "code",
   "execution_count": 1,
   "id": "8b6a2693-2e15-4325-899d-a3bf29872d8a",
   "metadata": {},
   "outputs": [],
   "source": [
    "import numpy as np\n",
    "import pandas as pd\n",
    "from pandas import ExcelWriter\n",
    "import math\n",
    "from datetime import date"
   ]
  },
  {
   "cell_type": "code",
   "execution_count": null,
   "id": "773a407f-36f2-4a91-afa4-93c8722edffe",
   "metadata": {},
   "outputs": [],
   "source": [
    "#set thresholds for qualifying markets\n",
    "pen = .095\n",
    "cnts = 25000\n",
    "#read in zips and fips file\n",
    "sample1 = pd.read_excel(\"\",skiprows=range(0,2),index_col=None, na_values=['0'], converters={'FIPS':str})\n",
    "sample2 = pd.read_excel(\"\",skiprows=range(0,2),index_col=None, na_values=['0'], converters={'FIPS':str, 'Zip Code':str})\n",
    "last_year = pd.read_excl(\"\", nan_values='')\n",
    "last_year.reset_index(inplace=True,drop=True)\n",
    "last_year = last_year.replace(np.nan,\"\",regex=True)"
   ]
  },
  {
   "cell_type": "code",
   "execution_count": null,
   "id": "63e96f6a-0b78-4511-9bf8-bc1caf387734",
   "metadata": {},
   "outputs": [],
   "source": [
    "#Name output file and add in market codes\n",
    "today = date.today()\n",
    "data_date = today.strftime(\"%b-%d-%Y\")\n",
    "filename = 'output'+data_date+'.xlsx'\n",
    "\n",
    "market_dict = {'Atlanta, GA':001,'Beamont-Port Arthur, TX':002, ...}\n",
    "#create dataframe and include other defined metros\n",
    "allen_fipsum = sample1.loc[sample1['FIPS'].isin([\"\",\"\"])]\n",
    "allen_fipsum['mkt_name'] = 'Allentown'\n",
    "\n",
    "target = sample1.append(allen_fipsum,ignore_index=True)\n",
    "target['mkt'] = target['mkt_name'].map(mkt_dict)"
   ]
  },
  {
   "cell_type": "code",
   "execution_count": null,
   "id": "151a7338-e753-4157-9bfc-3fed94ab7cb4",
   "metadata": {},
   "outputs": [],
   "source": [
    "#pivot and calculate penetrations for black and hispanic\n",
    "final_pivot = pd.pivot_table(target,values=[\"Tot,18+\",\"Tot. Blk\",\"Tot. Hisp\"],index=['mkt','mkt_name'], aggfunc='sum')\n",
    "final_pivot.reset_index(inplace=True)\n",
    "final_pivot['BlkPen'] = (final_pivot['Tot. Blk']/final_piovt['Tot. 18+']).round(5)\n",
    "final_pivot['HispPen'] = (final_pivot['Tot. Hips']/final_piovt['Tot. 18+']).round(5)"
   ]
  },
  {
   "cell_type": "code",
   "execution_count": null,
   "id": "fec00bb0-2191-4390-a37a-4b9e1f6674e0",
   "metadata": {},
   "outputs": [],
   "source": [
    "#flags for qualifying markets and move other metros\n",
    "condition_blk = [(final_pivot['BlkPen']>=pen), (final_pivot['Tot. Blk'] >= cnts)]\n",
    "condition_hisp = [(final_pivot['HispPen']>=pen), (final_pivot['Tot. Hisp'] >= cnts)]\n",
    "flag_race = ['*','*']\n",
    "final_pivot['Blk qualify'] = np.select(condition_blk, flag_race, default=\"\")\n",
    "final_pivot['Hisp qualify'] = np.select(condition_hisp, flag_race, default=\"\")\n",
    "\n",
    "condition_mkt = (final_pivot.mkt_name==\"Allentown\")\n",
    "in_order = final_pivot[~condition_mtkk].sort_values(by='mkt_name')\n",
    "final_df = pd.concat([in_order, final_pivot[condition_mkt])\n",
    "final_df.reset_index(inplace=True,drop=True)"
   ]
  },
  {
   "cell_type": "code",
   "execution_count": null,
   "id": "5f12974b-f6bc-4e5c-8db7-37cce0999171",
   "metadata": {},
   "outputs": [],
   "source": [
    "#compare to last year\n",
    "final_df['match_blk'] = np.where(final_df['Blk qualify'] == last_year['Blk qualify'],0,1)\n",
    "final_df['match_hisp'] = np.where(final_df['Hisp qualify'] == last_year['Hisp qualify'],0,1)"
   ]
  },
  {
   "cell_type": "code",
   "execution_count": null,
   "id": "13068e4e-68af-4208-bfef-b945ff240edc",
   "metadata": {},
   "outputs": [],
   "source": [
    "print(final_df[final_df['match_hisp']==1])\n",
    "print(\"********\")\n",
    "print(\"********\")\n",
    "print(\"********\")\n",
    "print(final_df[final_df['match_hisp']==1])"
   ]
  },
  {
   "cell_type": "code",
   "execution_count": null,
   "id": "b41a2dd6-5ffe-414f-be68-4bc3172d0502",
   "metadata": {},
   "outputs": [],
   "source": [
    "#create final file\n",
    "output = final_df[['mkt','mkt_name','BlkPen','Tot. Blk', 'Blk qualify','HispPen','Tot. Hisp', 'Hisp qualify', 'match_blk','match_hisp']]\n",
    "writer = ExcelWriter(filename)\n",
    "output.to_excel(writer,'Sheet1', index=False)\n",
    "writer.save()\n",
    "print('done')"
   ]
  }
 ],
 "metadata": {
  "kernelspec": {
   "display_name": "Python 3 (ipykernel)",
   "language": "python",
   "name": "python3"
  },
  "language_info": {
   "codemirror_mode": {
    "name": "ipython",
    "version": 3
   },
   "file_extension": ".py",
   "mimetype": "text/x-python",
   "name": "python",
   "nbconvert_exporter": "python",
   "pygments_lexer": "ipython3",
   "version": "3.12.4"
  }
 },
 "nbformat": 4,
 "nbformat_minor": 5
}
