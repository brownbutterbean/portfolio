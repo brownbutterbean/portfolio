{
 "cells": [
  {
   "cell_type": "markdown",
   "id": "097e7617-fff6-4373-bc03-d38a57730d86",
   "metadata": {},
   "source": [
    "Cluster Analysis - Male Web Traffic\n",
    "\n",
    "The goal was understanding the male audience traffic on a website. Data included gender, average income of the area, the amount of time spent on the internet, and the amount of time spent on the website. Various ads from one company were displayed to each user. \n",
    "\n",
    "The analysis shows that males who spent a longer time on the website daily did not click on many ads. This group is slightly younger, spends a longer time surfing the internet, and reside in high income areas. Males that were older and that spent less time on the website clicked on ads. Since the audience skews slightly younger, the ads may not be appealing to that age group."
   ]
  },
  {
   "cell_type": "code",
   "execution_count": null,
   "id": "e30e0d27-e482-47d5-9ea1-5b2a5f8bde14",
   "metadata": {},
   "outputs": [],
   "source": [
    "#used to find patterns in datasets - clustering model (unsupervised)"
   ]
  },
  {
   "cell_type": "code",
   "execution_count": 1,
   "id": "6ae8a8a9-a4ba-464d-977a-ec67601a860f",
   "metadata": {},
   "outputs": [],
   "source": [
    "import pandas as pd\n",
    "import numpy as np\n",
    "from sklearn.decomposition import PCA\n",
    "import matplotlib.pyplot as plt\n",
    "from IPython.display import clear_output"
   ]
  },
  {
   "cell_type": "code",
   "execution_count": 2,
   "id": "6d8732db-cd29-48e2-94ae-9c64b2f5a949",
   "metadata": {},
   "outputs": [],
   "source": [
    "#scale the data, initialize random centroids, label each data point based on distance from centroid, update centroids\n",
    "#repeat steps 3 and 4 until convergence"
   ]
  },
  {
   "cell_type": "code",
   "execution_count": 3,
   "id": "27d7cf88-5cb5-42e7-83e1-216f35cfb636",
   "metadata": {},
   "outputs": [],
   "source": [
    "#get random centroid - select random data point from dataframe\n",
    "def random_centroids(data,k):\n",
    "    centroids = []\n",
    "    for i in range(k):\n",
    "        centroid = df1.apply(lambda x: float(x.sample()))\n",
    "        centroids.append(centroid)\n",
    "    return pd.concat(centroids,axis=1)"
   ]
  },
  {
   "cell_type": "code",
   "execution_count": 4,
   "id": "7ce88c4f-2720-443a-97cf-8aa0784ff555",
   "metadata": {},
   "outputs": [],
   "source": [
    "#find euclidean distance between data points and the cluster center - then choose the closest distance\n",
    "def get_labels(data,centroids):\n",
    "    distance = centroids.apply(lambda x: np.sqrt(((df1-x) **2).sum(axis =1)))\n",
    "    return distance.idxmin(axis=1)"
   ]
  },
  {
   "cell_type": "code",
   "execution_count": 5,
   "id": "6695b1ab-0d18-4793-8225-3ccbc302edd9",
   "metadata": {},
   "outputs": [],
   "source": [
    "#find the geometric mean - will need to transpose - spliting up data by labels and for each group\n",
    "#apply geometric mean to each feature \n",
    "def new_centroids(data,labels,k):\n",
    "    return df1.groupby(labels).apply(lambda x: np.exp(np.log(x).mean())).T"
   ]
  },
  {
   "cell_type": "code",
   "execution_count": 6,
   "id": "7f0649ba-49ed-48e2-a58e-ea88ad88b991",
   "metadata": {},
   "outputs": [],
   "source": [
    "#plot data as 2 dimensional plot\n",
    "def plot_clusters(data, labels, centroids, iteration):\n",
    "    pca = PCA(n_components =2)\n",
    "    data_2d = pca.fit_transform(data)\n",
    "    centroids_2d = pca.transform(centroids.T)\n",
    "    clear_output(wait=True)\n",
    "    plt.title(f'Iteration {iteration}')\n",
    "    plt.scatter(x=data_2d[:,0], y=data_2d[:,1], c=labels)\n",
    "    plt.scatter(x=centroids_2d[:,0], y=centroids_2d[:,1])\n",
    "    plt.show()"
   ]
  },
  {
   "cell_type": "code",
   "execution_count": 15,
   "id": "f21015ed-90c0-4a69-bc18-702d4f4f676e",
   "metadata": {},
   "outputs": [],
   "source": [
    "#import sales dataset\n",
    "sales = pd.read_csv(\"advertising.csv\")#sheet_name = \"advertising\")"
   ]
  },
  {
   "cell_type": "code",
   "execution_count": 17,
   "id": "f14ea384-cdc8-4b1d-b801-b8a86ef94534",
   "metadata": {},
   "outputs": [
    {
     "data": {
      "text/html": [
       "<div>\n",
       "<style scoped>\n",
       "    .dataframe tbody tr th:only-of-type {\n",
       "        vertical-align: middle;\n",
       "    }\n",
       "\n",
       "    .dataframe tbody tr th {\n",
       "        vertical-align: top;\n",
       "    }\n",
       "\n",
       "    .dataframe thead th {\n",
       "        text-align: right;\n",
       "    }\n",
       "</style>\n",
       "<table border=\"1\" class=\"dataframe\">\n",
       "  <thead>\n",
       "    <tr style=\"text-align: right;\">\n",
       "      <th></th>\n",
       "      <th>Daily Time Spent on Site</th>\n",
       "      <th>Age</th>\n",
       "      <th>Area Income</th>\n",
       "      <th>Daily Internet Usage</th>\n",
       "      <th>Ad Topic Line</th>\n",
       "      <th>City</th>\n",
       "      <th>Male</th>\n",
       "      <th>Country</th>\n",
       "      <th>Timestamp</th>\n",
       "      <th>Clicked on Ad</th>\n",
       "    </tr>\n",
       "  </thead>\n",
       "  <tbody>\n",
       "    <tr>\n",
       "      <th>0</th>\n",
       "      <td>68.95</td>\n",
       "      <td>35</td>\n",
       "      <td>61833.90</td>\n",
       "      <td>256.09</td>\n",
       "      <td>Cloned 5thgeneration orchestration</td>\n",
       "      <td>Wrightburgh</td>\n",
       "      <td>0</td>\n",
       "      <td>Tunisia</td>\n",
       "      <td>3/27/2016 0:53</td>\n",
       "      <td>0</td>\n",
       "    </tr>\n",
       "    <tr>\n",
       "      <th>1</th>\n",
       "      <td>80.23</td>\n",
       "      <td>31</td>\n",
       "      <td>68441.85</td>\n",
       "      <td>193.77</td>\n",
       "      <td>Monitored national standardization</td>\n",
       "      <td>West Jodi</td>\n",
       "      <td>1</td>\n",
       "      <td>Nauru</td>\n",
       "      <td>4/4/2016 1:39</td>\n",
       "      <td>0</td>\n",
       "    </tr>\n",
       "    <tr>\n",
       "      <th>2</th>\n",
       "      <td>69.47</td>\n",
       "      <td>26</td>\n",
       "      <td>59785.94</td>\n",
       "      <td>236.50</td>\n",
       "      <td>Organic bottom-line service-desk</td>\n",
       "      <td>Davidton</td>\n",
       "      <td>0</td>\n",
       "      <td>San Marino</td>\n",
       "      <td>3/13/2016 20:35</td>\n",
       "      <td>0</td>\n",
       "    </tr>\n",
       "    <tr>\n",
       "      <th>3</th>\n",
       "      <td>74.15</td>\n",
       "      <td>29</td>\n",
       "      <td>54806.18</td>\n",
       "      <td>245.89</td>\n",
       "      <td>Triple-buffered reciprocal time-frame</td>\n",
       "      <td>West Terrifurt</td>\n",
       "      <td>1</td>\n",
       "      <td>Italy</td>\n",
       "      <td>1/10/2016 2:31</td>\n",
       "      <td>0</td>\n",
       "    </tr>\n",
       "    <tr>\n",
       "      <th>4</th>\n",
       "      <td>68.37</td>\n",
       "      <td>35</td>\n",
       "      <td>73889.99</td>\n",
       "      <td>225.58</td>\n",
       "      <td>Robust logistical utilization</td>\n",
       "      <td>South Manuel</td>\n",
       "      <td>0</td>\n",
       "      <td>Iceland</td>\n",
       "      <td>6/3/2016 3:36</td>\n",
       "      <td>0</td>\n",
       "    </tr>\n",
       "  </tbody>\n",
       "</table>\n",
       "</div>"
      ],
      "text/plain": [
       "   Daily Time Spent on Site  Age  Area Income  Daily Internet Usage  \\\n",
       "0                     68.95   35     61833.90                256.09   \n",
       "1                     80.23   31     68441.85                193.77   \n",
       "2                     69.47   26     59785.94                236.50   \n",
       "3                     74.15   29     54806.18                245.89   \n",
       "4                     68.37   35     73889.99                225.58   \n",
       "\n",
       "                           Ad Topic Line            City  Male     Country  \\\n",
       "0     Cloned 5thgeneration orchestration     Wrightburgh     0     Tunisia   \n",
       "1     Monitored national standardization       West Jodi     1       Nauru   \n",
       "2       Organic bottom-line service-desk        Davidton     0  San Marino   \n",
       "3  Triple-buffered reciprocal time-frame  West Terrifurt     1       Italy   \n",
       "4          Robust logistical utilization    South Manuel     0     Iceland   \n",
       "\n",
       "         Timestamp  Clicked on Ad  \n",
       "0   3/27/2016 0:53              0  \n",
       "1    4/4/2016 1:39              0  \n",
       "2  3/13/2016 20:35              0  \n",
       "3   1/10/2016 2:31              0  \n",
       "4    6/3/2016 3:36              0  "
      ]
     },
     "execution_count": 17,
     "metadata": {},
     "output_type": "execute_result"
    }
   ],
   "source": [
    "sales.head()"
   ]
  },
  {
   "cell_type": "code",
   "execution_count": 19,
   "id": "36b1710d-b307-4bf3-9861-e9d8a5a27264",
   "metadata": {},
   "outputs": [],
   "source": [
    "charc =[\"Daily Time Spent on Site\",\"Age\",\"Area Income\",\"Daily Internet Usage\"]"
   ]
  },
  {
   "cell_type": "code",
   "execution_count": 21,
   "id": "e4c1644c-b62d-4035-b529-903e116673dc",
   "metadata": {},
   "outputs": [],
   "source": [
    "sales = sales.dropna(subset=charc)"
   ]
  },
  {
   "cell_type": "code",
   "execution_count": 23,
   "id": "98d34ebd-474c-462c-b511-c9fc87a0d04b",
   "metadata": {},
   "outputs": [],
   "source": [
    "df1 = sales[charc].copy()"
   ]
  },
  {
   "cell_type": "code",
   "execution_count": 25,
   "id": "a4726aaa-90a8-4942-8ed4-8289fb81276e",
   "metadata": {},
   "outputs": [],
   "source": [
    "#scale data points so they can be compared (1-10)\n",
    "df1 =(df1-df1.min())/(df1.max()-df1.min())*9+1"
   ]
  },
  {
   "cell_type": "code",
   "execution_count": 27,
   "id": "88bc89f7-0712-4467-8261-562313504c73",
   "metadata": {},
   "outputs": [
    {
     "data": {
      "text/html": [
       "<div>\n",
       "<style scoped>\n",
       "    .dataframe tbody tr th:only-of-type {\n",
       "        vertical-align: middle;\n",
       "    }\n",
       "\n",
       "    .dataframe tbody tr th {\n",
       "        vertical-align: top;\n",
       "    }\n",
       "\n",
       "    .dataframe thead th {\n",
       "        text-align: right;\n",
       "    }\n",
       "</style>\n",
       "<table border=\"1\" class=\"dataframe\">\n",
       "  <thead>\n",
       "    <tr style=\"text-align: right;\">\n",
       "      <th></th>\n",
       "      <th>Daily Time Spent on Site</th>\n",
       "      <th>Age</th>\n",
       "      <th>Area Income</th>\n",
       "      <th>Daily Internet Usage</th>\n",
       "    </tr>\n",
       "  </thead>\n",
       "  <tbody>\n",
       "    <tr>\n",
       "      <th>count</th>\n",
       "      <td>1000.000000</td>\n",
       "      <td>1000.000000</td>\n",
       "      <td>1000.000000</td>\n",
       "      <td>1000.000000</td>\n",
       "    </tr>\n",
       "    <tr>\n",
       "      <th>mean</th>\n",
       "      <td>5.956685</td>\n",
       "      <td>4.644786</td>\n",
       "      <td>6.635075</td>\n",
       "      <td>5.098444</td>\n",
       "    </tr>\n",
       "    <tr>\n",
       "      <th>std</th>\n",
       "      <td>2.425336</td>\n",
       "      <td>1.882620</td>\n",
       "      <td>1.843561</td>\n",
       "      <td>2.392064</td>\n",
       "    </tr>\n",
       "    <tr>\n",
       "      <th>min</th>\n",
       "      <td>1.000000</td>\n",
       "      <td>1.000000</td>\n",
       "      <td>1.000000</td>\n",
       "      <td>1.000000</td>\n",
       "    </tr>\n",
       "    <tr>\n",
       "      <th>25%</th>\n",
       "      <td>3.869964</td>\n",
       "      <td>3.142857</td>\n",
       "      <td>5.540013</td>\n",
       "      <td>2.855249</td>\n",
       "    </tr>\n",
       "    <tr>\n",
       "      <th>50%</th>\n",
       "      <td>6.448496</td>\n",
       "      <td>4.428571</td>\n",
       "      <td>6.911624</td>\n",
       "      <td>5.268979</td>\n",
       "    </tr>\n",
       "    <tr>\n",
       "      <th>75%</th>\n",
       "      <td>8.029194</td>\n",
       "      <td>5.928571</td>\n",
       "      <td>8.074046</td>\n",
       "      <td>7.212087</td>\n",
       "    </tr>\n",
       "    <tr>\n",
       "      <th>max</th>\n",
       "      <td>10.000000</td>\n",
       "      <td>10.000000</td>\n",
       "      <td>10.000000</td>\n",
       "      <td>10.000000</td>\n",
       "    </tr>\n",
       "  </tbody>\n",
       "</table>\n",
       "</div>"
      ],
      "text/plain": [
       "       Daily Time Spent on Site          Age  Area Income  \\\n",
       "count               1000.000000  1000.000000  1000.000000   \n",
       "mean                   5.956685     4.644786     6.635075   \n",
       "std                    2.425336     1.882620     1.843561   \n",
       "min                    1.000000     1.000000     1.000000   \n",
       "25%                    3.869964     3.142857     5.540013   \n",
       "50%                    6.448496     4.428571     6.911624   \n",
       "75%                    8.029194     5.928571     8.074046   \n",
       "max                   10.000000    10.000000    10.000000   \n",
       "\n",
       "       Daily Internet Usage  \n",
       "count           1000.000000  \n",
       "mean               5.098444  \n",
       "std                2.392064  \n",
       "min                1.000000  \n",
       "25%                2.855249  \n",
       "50%                5.268979  \n",
       "75%                7.212087  \n",
       "max               10.000000  "
      ]
     },
     "execution_count": 27,
     "metadata": {},
     "output_type": "execute_result"
    }
   ],
   "source": [
    "df1.describe()"
   ]
  },
  {
   "cell_type": "code",
   "execution_count": 29,
   "id": "6984cc45-cf05-41e4-ac35-d9aee623fab8",
   "metadata": {},
   "outputs": [
    {
     "data": {
      "text/html": [
       "<div>\n",
       "<style scoped>\n",
       "    .dataframe tbody tr th:only-of-type {\n",
       "        vertical-align: middle;\n",
       "    }\n",
       "\n",
       "    .dataframe tbody tr th {\n",
       "        vertical-align: top;\n",
       "    }\n",
       "\n",
       "    .dataframe thead th {\n",
       "        text-align: right;\n",
       "    }\n",
       "</style>\n",
       "<table border=\"1\" class=\"dataframe\">\n",
       "  <thead>\n",
       "    <tr style=\"text-align: right;\">\n",
       "      <th></th>\n",
       "      <th>Daily Time Spent on Site</th>\n",
       "      <th>Age</th>\n",
       "      <th>Area Income</th>\n",
       "      <th>Daily Internet Usage</th>\n",
       "    </tr>\n",
       "  </thead>\n",
       "  <tbody>\n",
       "    <tr>\n",
       "      <th>995</th>\n",
       "      <td>7.175931</td>\n",
       "      <td>3.357143</td>\n",
       "      <td>8.886792</td>\n",
       "      <td>6.655648</td>\n",
       "    </tr>\n",
       "    <tr>\n",
       "      <th>996</th>\n",
       "      <td>3.860785</td>\n",
       "      <td>6.571429</td>\n",
       "      <td>8.391718</td>\n",
       "      <td>2.614965</td>\n",
       "    </tr>\n",
       "    <tr>\n",
       "      <th>997</th>\n",
       "      <td>3.911270</td>\n",
       "      <td>7.857143</td>\n",
       "      <td>4.905629</td>\n",
       "      <td>1.849437</td>\n",
       "    </tr>\n",
       "    <tr>\n",
       "      <th>998</th>\n",
       "      <td>4.510964</td>\n",
       "      <td>1.000000</td>\n",
       "      <td>4.837611</td>\n",
       "      <td>5.531602</td>\n",
       "    </tr>\n",
       "    <tr>\n",
       "      <th>999</th>\n",
       "      <td>2.898521</td>\n",
       "      <td>2.500000</td>\n",
       "      <td>3.182278</td>\n",
       "      <td>5.008536</td>\n",
       "    </tr>\n",
       "  </tbody>\n",
       "</table>\n",
       "</div>"
      ],
      "text/plain": [
       "     Daily Time Spent on Site       Age  Area Income  Daily Internet Usage\n",
       "995                  7.175931  3.357143     8.886792              6.655648\n",
       "996                  3.860785  6.571429     8.391718              2.614965\n",
       "997                  3.911270  7.857143     4.905629              1.849437\n",
       "998                  4.510964  1.000000     4.837611              5.531602\n",
       "999                  2.898521  2.500000     3.182278              5.008536"
      ]
     },
     "execution_count": 29,
     "metadata": {},
     "output_type": "execute_result"
    }
   ],
   "source": [
    "df1.tail()"
   ]
  },
  {
   "cell_type": "code",
   "execution_count": 31,
   "id": "a94281f2-ef6f-471b-bc3b-08253ae17ad2",
   "metadata": {},
   "outputs": [
    {
     "name": "stderr",
     "output_type": "stream",
     "text": [
      "C:\\Users\\nitpi\\AppData\\Local\\Temp\\ipykernel_8968\\2208229538.py:5: FutureWarning: Calling float on a single element Series is deprecated and will raise a TypeError in the future. Use float(ser.iloc[0]) instead\n",
      "  centroid = df1.apply(lambda x: float(x.sample()))\n"
     ]
    }
   ],
   "source": [
    "centroids = random_centroids(df1,3)"
   ]
  },
  {
   "cell_type": "code",
   "execution_count": 33,
   "id": "25a210b4-86ee-4170-a2ed-becd7aa4f706",
   "metadata": {},
   "outputs": [
    {
     "data": {
      "text/html": [
       "<div>\n",
       "<style scoped>\n",
       "    .dataframe tbody tr th:only-of-type {\n",
       "        vertical-align: middle;\n",
       "    }\n",
       "\n",
       "    .dataframe tbody tr th {\n",
       "        vertical-align: top;\n",
       "    }\n",
       "\n",
       "    .dataframe thead th {\n",
       "        text-align: right;\n",
       "    }\n",
       "</style>\n",
       "<table border=\"1\" class=\"dataframe\">\n",
       "  <thead>\n",
       "    <tr style=\"text-align: right;\">\n",
       "      <th></th>\n",
       "      <th>0</th>\n",
       "      <th>1</th>\n",
       "      <th>2</th>\n",
       "    </tr>\n",
       "  </thead>\n",
       "  <tbody>\n",
       "    <tr>\n",
       "      <th>Daily Time Spent on Site</th>\n",
       "      <td>8.220806</td>\n",
       "      <td>2.529832</td>\n",
       "      <td>3.115757</td>\n",
       "    </tr>\n",
       "    <tr>\n",
       "      <th>Age</th>\n",
       "      <td>4.428571</td>\n",
       "      <td>6.142857</td>\n",
       "      <td>2.928571</td>\n",
       "    </tr>\n",
       "    <tr>\n",
       "      <th>Area Income</th>\n",
       "      <td>5.134107</td>\n",
       "      <td>6.907747</td>\n",
       "      <td>6.790355</td>\n",
       "    </tr>\n",
       "    <tr>\n",
       "      <th>Daily Internet Usage</th>\n",
       "      <td>7.545950</td>\n",
       "      <td>8.441700</td>\n",
       "      <td>2.274428</td>\n",
       "    </tr>\n",
       "  </tbody>\n",
       "</table>\n",
       "</div>"
      ],
      "text/plain": [
       "                                 0         1         2\n",
       "Daily Time Spent on Site  8.220806  2.529832  3.115757\n",
       "Age                       4.428571  6.142857  2.928571\n",
       "Area Income               5.134107  6.907747  6.790355\n",
       "Daily Internet Usage      7.545950  8.441700  2.274428"
      ]
     },
     "execution_count": 33,
     "metadata": {},
     "output_type": "execute_result"
    }
   ],
   "source": [
    "centroids"
   ]
  },
  {
   "cell_type": "code",
   "execution_count": 35,
   "id": "d5a0e219-87cb-4a55-8619-b1e3f4d08d9d",
   "metadata": {},
   "outputs": [],
   "source": [
    "labels = get_labels(df1, centroids)"
   ]
  },
  {
   "cell_type": "code",
   "execution_count": 232,
   "id": "2725467e-9018-40f5-9096-7d2a728f44e4",
   "metadata": {},
   "outputs": [
    {
     "data": {
      "text/plain": [
       "2    539\n",
       "1    297\n",
       "0    164\n",
       "Name: count, dtype: int64"
      ]
     },
     "execution_count": 232,
     "metadata": {},
     "output_type": "execute_result"
    }
   ],
   "source": [
    "labels.value_counts()"
   ]
  },
  {
   "cell_type": "code",
   "execution_count": 220,
   "id": "e33ceb6a-fa6c-439e-98c0-878c7bc1d446",
   "metadata": {},
   "outputs": [
    {
     "data": {
      "image/png": "[encoded data removed]",
      "text/plain": [
       "<Figure size 640x480 with 1 Axes>"
      ]
     },
     "metadata": {},
     "output_type": "display_data"
    }
   ],
   "source": [
    "max_iterations = 100\n",
    "k = 3\n",
    "centroids = random_centroids(df1,k)\n",
    "old_centroids = pd.DataFrame()\n",
    "iteration = 1\n",
    "while iteration < max_iterations and not centroids.equals(old_centroids):\n",
    "    old_centroids = centroids\n",
    "    labels = get_labels(df1,centroids)\n",
    "    centroids = new_centroids(df1,labels, k)\n",
    "    plot_clusters(df1, labels, centroids, iteration)\n",
    "    iteration += 1"
   ]
  },
  {
   "cell_type": "code",
   "execution_count": 222,
   "id": "9b695dd3-ba88-4921-8d90-4c7fca6656e2",
   "metadata": {},
   "outputs": [
    {
     "data": {
      "text/html": [
       "<div>\n",
       "<style scoped>\n",
       "    .dataframe tbody tr th:only-of-type {\n",
       "        vertical-align: middle;\n",
       "    }\n",
       "\n",
       "    .dataframe tbody tr th {\n",
       "        vertical-align: top;\n",
       "    }\n",
       "\n",
       "    .dataframe thead th {\n",
       "        text-align: right;\n",
       "    }\n",
       "</style>\n",
       "<table border=\"1\" class=\"dataframe\">\n",
       "  <thead>\n",
       "    <tr style=\"text-align: right;\">\n",
       "      <th></th>\n",
       "      <th>0</th>\n",
       "      <th>1</th>\n",
       "      <th>2</th>\n",
       "    </tr>\n",
       "  </thead>\n",
       "  <tbody>\n",
       "    <tr>\n",
       "      <th>Daily Time Spent on Site</th>\n",
       "      <td>2.313505</td>\n",
       "      <td>4.392362</td>\n",
       "      <td>7.579193</td>\n",
       "    </tr>\n",
       "    <tr>\n",
       "      <th>Age</th>\n",
       "      <td>4.889192</td>\n",
       "      <td>5.693087</td>\n",
       "      <td>3.467082</td>\n",
       "    </tr>\n",
       "    <tr>\n",
       "      <th>Area Income</th>\n",
       "      <td>4.109677</td>\n",
       "      <td>6.128408</td>\n",
       "      <td>7.286825</td>\n",
       "    </tr>\n",
       "    <tr>\n",
       "      <th>Daily Internet Usage</th>\n",
       "      <td>3.859792</td>\n",
       "      <td>2.210187</td>\n",
       "      <td>6.749071</td>\n",
       "    </tr>\n",
       "  </tbody>\n",
       "</table>\n",
       "</div>"
      ],
      "text/plain": [
       "                                 0         1         2\n",
       "Daily Time Spent on Site  2.313505  4.392362  7.579193\n",
       "Age                       4.889192  5.693087  3.467082\n",
       "Area Income               4.109677  6.128408  7.286825\n",
       "Daily Internet Usage      3.859792  2.210187  6.749071"
      ]
     },
     "execution_count": 222,
     "metadata": {},
     "output_type": "execute_result"
    }
   ],
   "source": [
    "centroids"
   ]
  },
  {
   "cell_type": "code",
   "execution_count": 224,
   "id": "fbeb1d47-934d-4ad6-a63d-41ca65b5b574",
   "metadata": {},
   "outputs": [],
   "source": [
    "males = sales[sales['Male']==1]"
   ]
  },
  {
   "cell_type": "code",
   "execution_count": 235,
   "id": "fb418ba5-88d6-4f25-85ea-04fc15174c49",
   "metadata": {},
   "outputs": [
    {
     "data": {
      "text/html": [
       "<div>\n",
       "<style scoped>\n",
       "    .dataframe tbody tr th:only-of-type {\n",
       "        vertical-align: middle;\n",
       "    }\n",
       "\n",
       "    .dataframe tbody tr th {\n",
       "        vertical-align: top;\n",
       "    }\n",
       "\n",
       "    .dataframe thead th {\n",
       "        text-align: right;\n",
       "    }\n",
       "</style>\n",
       "<table border=\"1\" class=\"dataframe\">\n",
       "  <thead>\n",
       "    <tr style=\"text-align: right;\">\n",
       "      <th></th>\n",
       "      <th>Age</th>\n",
       "      <th>Area Income</th>\n",
       "      <th>Clicked on Ad</th>\n",
       "      <th>Daily Internet Usage</th>\n",
       "      <th>Daily Time Spent on Site</th>\n",
       "      <th>Male</th>\n",
       "    </tr>\n",
       "  </thead>\n",
       "  <tbody>\n",
       "    <tr>\n",
       "      <th>0</th>\n",
       "      <td>38.265823</td>\n",
       "      <td>40335.822025</td>\n",
       "      <td>79</td>\n",
       "      <td>158.387215</td>\n",
       "      <td>42.398101</td>\n",
       "      <td>79</td>\n",
       "    </tr>\n",
       "    <tr>\n",
       "      <th>1</th>\n",
       "      <td>43.120301</td>\n",
       "      <td>53395.031729</td>\n",
       "      <td>133</td>\n",
       "      <td>130.270075</td>\n",
       "      <td>54.776617</td>\n",
       "      <td>133</td>\n",
       "    </tr>\n",
       "    <tr>\n",
       "      <th>2</th>\n",
       "      <td>31.486989</td>\n",
       "      <td>60133.046543</td>\n",
       "      <td>19</td>\n",
       "      <td>213.218178</td>\n",
       "      <td>76.135019</td>\n",
       "      <td>269</td>\n",
       "    </tr>\n",
       "  </tbody>\n",
       "</table>\n",
       "</div>"
      ],
      "text/plain": [
       "         Age   Area Income  Clicked on Ad  Daily Internet Usage  \\\n",
       "0  38.265823  40335.822025             79            158.387215   \n",
       "1  43.120301  53395.031729            133            130.270075   \n",
       "2  31.486989  60133.046543             19            213.218178   \n",
       "\n",
       "   Daily Time Spent on Site  Male  \n",
       "0                 42.398101    79  \n",
       "1                 54.776617   133  \n",
       "2                 76.135019   269  "
      ]
     },
     "execution_count": 235,
     "metadata": {},
     "output_type": "execute_result"
    }
   ],
   "source": [
    "males.pivot_table(index=labels, aggfunc={'Daily Time Spent on Site':'mean','Clicked on Ad': 'sum',\n",
    "                                                      'Age': 'mean','Area Income':'mean','Daily Internet Usage':'mean','Male':'sum'})"
   ]
  },
  {
   "cell_type": "code",
   "execution_count": null,
   "id": "7bd8c24e-c2e6-44e0-8a63-ad395373e685",
   "metadata": {},
   "outputs": [],
   "source": []
  }
 ],
 "metadata": {
  "kernelspec": {
   "display_name": "Python 3 (ipykernel)",
   "language": "python",
   "name": "python3"
  },
  "language_info": {
   "codemirror_mode": {
    "name": "ipython",
    "version": 3
   },
   "file_extension": ".py",
   "mimetype": "text/x-python",
   "name": "python",
   "nbconvert_exporter": "python",
   "pygments_lexer": "ipython3",
   "version": "3.12.4"
  }
 },
 "nbformat": 4,
 "nbformat_minor": 5
}
