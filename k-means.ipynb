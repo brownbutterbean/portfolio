{
 "cells": [
  {
   "cell_type": "code",
   "execution_count": null,
   "id": "e30e0d27-e482-47d5-9ea1-5b2a5f8bde14",
   "metadata": {},
   "outputs": [],
   "source": [
    "#used to find patterns in datasets - clustering model (unsupervised)"
   ]
  },
  {
   "cell_type": "code",
   "execution_count": 73,
   "id": "6ae8a8a9-a4ba-464d-977a-ec67601a860f",
   "metadata": {},
   "outputs": [],
   "source": [
    "import pandas as pd\n",
    "import numpy as np\n",
    "from sklearn.decomposition import PCA\n",
    "import matplotlib.pyplot as plt\n",
    "from IPython.display import clear_output"
   ]
  },
  {
   "cell_type": "code",
   "execution_count": 23,
   "id": "6d8732db-cd29-48e2-94ae-9c64b2f5a949",
   "metadata": {},
   "outputs": [],
   "source": [
    "#scale the data, initialize random centroids, label each data point based on distance from centroid, update centroids\n",
    "#repeat steps 3 and 4 until convergence"
   ]
  },
  {
   "cell_type": "code",
   "execution_count": 37,
   "id": "27d7cf88-5cb5-42e7-83e1-216f35cfb636",
   "metadata": {},
   "outputs": [],
   "source": [
    "#get random centroid - select random data point from dataframe\n",
    "def random_centroids(data,k):\n",
    "    centroids = []\n",
    "    for i in range(k):\n",
    "        centroid = df1.apply(lambda x: float(x.sample()))\n",
    "        centroids.append(centroid)\n",
    "    return pd.concat(centroids,axis=1)"
   ]
  },
  {
   "cell_type": "code",
   "execution_count": 53,
   "id": "7ce88c4f-2720-443a-97cf-8aa0784ff555",
   "metadata": {},
   "outputs": [],
   "source": [
    "#find euclidean distance between data points and the cluster center - then choose the closest distance\n",
    "def get_labels(data,centroids):\n",
    "    distance = centroids.apply(lambda x: np.sqrt(((df1-x) **2).sum(axis =1)))\n",
    "    return distance.idxmin(axis=1)"
   ]
  },
  {
   "cell_type": "code",
   "execution_count": 87,
   "id": "6695b1ab-0d18-4793-8225-3ccbc302edd9",
   "metadata": {},
   "outputs": [],
   "source": [
    "#find the geometric mean - will need to transpose - spliting up data by labels and for each group\n",
    "#apply geometric mean to each feature \n",
    "def new_centroids(data,labels,k):\n",
    "    return df1.groupby(labels).apply(lambda x: np.exp(np.log(x).mean())).T"
   ]
  },
  {
   "cell_type": "code",
   "execution_count": 95,
   "id": "7f0649ba-49ed-48e2-a58e-ea88ad88b991",
   "metadata": {},
   "outputs": [],
   "source": [
    "#plot data as 2 dimensional plot\n",
    "def plot_clusters(data, labels, centroids, iteration):\n",
    "    pca = PCA(n_components =2)\n",
    "    data_2d = pca.fit_transform(data)\n",
    "    centroids_2d = pca.transform(centroids.T)\n",
    "    clear_output(wait=True)\n",
    "    plt.title(f'Iteration {iteration}')\n",
    "    plt.scatter(x=data_2d[:,0], y=data_2d[:,1], c=labels)\n",
    "    plt.scatter(x=centroids_2d[:,0], y=centroids_2d[:,1])\n",
    "    plt.show()"
   ]
  },
  {
   "cell_type": "code",
   "execution_count": 9,
   "id": "f21015ed-90c0-4a69-bc18-702d4f4f676e",
   "metadata": {},
   "outputs": [],
   "source": [
    "#import sales dataset\n",
    "sales = pd.read_excel(\"practice_data.xlsx\", sheet_name = \"clean\")"
   ]
  },
  {
   "cell_type": "code",
   "execution_count": 11,
   "id": "f14ea384-cdc8-4b1d-b801-b8a86ef94534",
   "metadata": {},
   "outputs": [
    {
     "data": {
      "text/html": [
       "<div>\n",
       "<style scoped>\n",
       "    .dataframe tbody tr th:only-of-type {\n",
       "        vertical-align: middle;\n",
       "    }\n",
       "\n",
       "    .dataframe tbody tr th {\n",
       "        vertical-align: top;\n",
       "    }\n",
       "\n",
       "    .dataframe thead th {\n",
       "        text-align: right;\n",
       "    }\n",
       "</style>\n",
       "<table border=\"1\" class=\"dataframe\">\n",
       "  <thead>\n",
       "    <tr style=\"text-align: right;\">\n",
       "      <th></th>\n",
       "      <th>Customer Name</th>\n",
       "      <th>Profit</th>\n",
       "      <th>Quantity</th>\n",
       "      <th>Sales</th>\n",
       "    </tr>\n",
       "  </thead>\n",
       "  <tbody>\n",
       "    <tr>\n",
       "      <th>0</th>\n",
       "      <td>Darren Powers</td>\n",
       "      <td>6</td>\n",
       "      <td>2</td>\n",
       "      <td>16</td>\n",
       "    </tr>\n",
       "    <tr>\n",
       "      <th>1</th>\n",
       "      <td>Phillina Ober</td>\n",
       "      <td>-66</td>\n",
       "      <td>8</td>\n",
       "      <td>289</td>\n",
       "    </tr>\n",
       "    <tr>\n",
       "      <th>2</th>\n",
       "      <td>Mick Brown</td>\n",
       "      <td>5</td>\n",
       "      <td>3</td>\n",
       "      <td>20</td>\n",
       "    </tr>\n",
       "    <tr>\n",
       "      <th>3</th>\n",
       "      <td>Jack O'Briant</td>\n",
       "      <td>5</td>\n",
       "      <td>3</td>\n",
       "      <td>13</td>\n",
       "    </tr>\n",
       "    <tr>\n",
       "      <th>4</th>\n",
       "      <td>Lycoris Saunders</td>\n",
       "      <td>9</td>\n",
       "      <td>3</td>\n",
       "      <td>19</td>\n",
       "    </tr>\n",
       "  </tbody>\n",
       "</table>\n",
       "</div>"
      ],
      "text/plain": [
       "      Customer Name  Profit  Quantity  Sales\n",
       "0     Darren Powers       6         2     16\n",
       "1     Phillina Ober     -66         8    289\n",
       "2        Mick Brown       5         3     20\n",
       "3     Jack O'Briant       5         3     13\n",
       "4  Lycoris Saunders       9         3     19"
      ]
     },
     "execution_count": 11,
     "metadata": {},
     "output_type": "execute_result"
    }
   ],
   "source": [
    "sales.head()"
   ]
  },
  {
   "cell_type": "code",
   "execution_count": 13,
   "id": "36b1710d-b307-4bf3-9861-e9d8a5a27264",
   "metadata": {},
   "outputs": [],
   "source": [
    "charc =[\"Profit\",\"Quantity\",\"Sales\"]"
   ]
  },
  {
   "cell_type": "code",
   "execution_count": 17,
   "id": "e4c1644c-b62d-4035-b529-903e116673dc",
   "metadata": {},
   "outputs": [],
   "source": [
    "sales = sales.dropna(subset=charc)"
   ]
  },
  {
   "cell_type": "code",
   "execution_count": 19,
   "id": "98d34ebd-474c-462c-b511-c9fc87a0d04b",
   "metadata": {},
   "outputs": [],
   "source": [
    "df1 = sales[charc].copy()"
   ]
  },
  {
   "cell_type": "code",
   "execution_count": 25,
   "id": "a4726aaa-90a8-4942-8ed4-8289fb81276e",
   "metadata": {},
   "outputs": [],
   "source": [
    "#scale data points so they can be compared (1-10)\n",
    "df1 =(df1-df1.min())/(df1.max()-df1.min())*9+1"
   ]
  },
  {
   "cell_type": "code",
   "execution_count": 27,
   "id": "88bc89f7-0712-4467-8261-562313504c73",
   "metadata": {},
   "outputs": [
    {
     "data": {
      "text/html": [
       "<div>\n",
       "<style scoped>\n",
       "    .dataframe tbody tr th:only-of-type {\n",
       "        vertical-align: middle;\n",
       "    }\n",
       "\n",
       "    .dataframe tbody tr th {\n",
       "        vertical-align: top;\n",
       "    }\n",
       "\n",
       "    .dataframe thead th {\n",
       "        text-align: right;\n",
       "    }\n",
       "</style>\n",
       "<table border=\"1\" class=\"dataframe\">\n",
       "  <thead>\n",
       "    <tr style=\"text-align: right;\">\n",
       "      <th></th>\n",
       "      <th>Profit</th>\n",
       "      <th>Quantity</th>\n",
       "      <th>Sales</th>\n",
       "    </tr>\n",
       "  </thead>\n",
       "  <tbody>\n",
       "    <tr>\n",
       "      <th>count</th>\n",
       "      <td>87.000000</td>\n",
       "      <td>87.000000</td>\n",
       "      <td>87.000000</td>\n",
       "    </tr>\n",
       "    <tr>\n",
       "      <th>mean</th>\n",
       "      <td>5.037575</td>\n",
       "      <td>2.981191</td>\n",
       "      <td>1.781412</td>\n",
       "    </tr>\n",
       "    <tr>\n",
       "      <th>std</th>\n",
       "      <td>0.813013</td>\n",
       "      <td>1.999574</td>\n",
       "      <td>1.392696</td>\n",
       "    </tr>\n",
       "    <tr>\n",
       "      <th>min</th>\n",
       "      <td>1.000000</td>\n",
       "      <td>1.000000</td>\n",
       "      <td>1.000000</td>\n",
       "    </tr>\n",
       "    <tr>\n",
       "      <th>25%</th>\n",
       "      <td>4.922105</td>\n",
       "      <td>1.545455</td>\n",
       "      <td>1.033974</td>\n",
       "    </tr>\n",
       "    <tr>\n",
       "      <th>50%</th>\n",
       "      <td>4.948632</td>\n",
       "      <td>2.363636</td>\n",
       "      <td>1.253260</td>\n",
       "    </tr>\n",
       "    <tr>\n",
       "      <th>75%</th>\n",
       "      <td>5.102105</td>\n",
       "      <td>3.318182</td>\n",
       "      <td>2.003775</td>\n",
       "    </tr>\n",
       "    <tr>\n",
       "      <th>max</th>\n",
       "      <td>10.000000</td>\n",
       "      <td>10.000000</td>\n",
       "      <td>10.000000</td>\n",
       "    </tr>\n",
       "  </tbody>\n",
       "</table>\n",
       "</div>"
      ],
      "text/plain": [
       "          Profit   Quantity      Sales\n",
       "count  87.000000  87.000000  87.000000\n",
       "mean    5.037575   2.981191   1.781412\n",
       "std     0.813013   1.999574   1.392696\n",
       "min     1.000000   1.000000   1.000000\n",
       "25%     4.922105   1.545455   1.033974\n",
       "50%     4.948632   2.363636   1.253260\n",
       "75%     5.102105   3.318182   2.003775\n",
       "max    10.000000  10.000000  10.000000"
      ]
     },
     "execution_count": 27,
     "metadata": {},
     "output_type": "execute_result"
    }
   ],
   "source": [
    "df1.describe()"
   ]
  },
  {
   "cell_type": "code",
   "execution_count": 31,
   "id": "6984cc45-cf05-41e4-ac35-d9aee623fab8",
   "metadata": {},
   "outputs": [
    {
     "data": {
      "text/html": [
       "<div>\n",
       "<style scoped>\n",
       "    .dataframe tbody tr th:only-of-type {\n",
       "        vertical-align: middle;\n",
       "    }\n",
       "\n",
       "    .dataframe tbody tr th {\n",
       "        vertical-align: top;\n",
       "    }\n",
       "\n",
       "    .dataframe thead th {\n",
       "        text-align: right;\n",
       "    }\n",
       "</style>\n",
       "<table border=\"1\" class=\"dataframe\">\n",
       "  <thead>\n",
       "    <tr style=\"text-align: right;\">\n",
       "      <th></th>\n",
       "      <th>Profit</th>\n",
       "      <th>Quantity</th>\n",
       "      <th>Sales</th>\n",
       "    </tr>\n",
       "  </thead>\n",
       "  <tbody>\n",
       "    <tr>\n",
       "      <th>82</th>\n",
       "      <td>5.092632</td>\n",
       "      <td>6.454545</td>\n",
       "      <td>1.568291</td>\n",
       "    </tr>\n",
       "    <tr>\n",
       "      <th>83</th>\n",
       "      <td>5.039579</td>\n",
       "      <td>4.545455</td>\n",
       "      <td>1.755662</td>\n",
       "    </tr>\n",
       "    <tr>\n",
       "      <th>84</th>\n",
       "      <td>4.941053</td>\n",
       "      <td>2.363636</td>\n",
       "      <td>1.043240</td>\n",
       "    </tr>\n",
       "    <tr>\n",
       "      <th>85</th>\n",
       "      <td>5.069895</td>\n",
       "      <td>2.363636</td>\n",
       "      <td>1.253260</td>\n",
       "    </tr>\n",
       "    <tr>\n",
       "      <th>86</th>\n",
       "      <td>1.000000</td>\n",
       "      <td>7.545455</td>\n",
       "      <td>8.107756</td>\n",
       "    </tr>\n",
       "  </tbody>\n",
       "</table>\n",
       "</div>"
      ],
      "text/plain": [
       "      Profit  Quantity     Sales\n",
       "82  5.092632  6.454545  1.568291\n",
       "83  5.039579  4.545455  1.755662\n",
       "84  4.941053  2.363636  1.043240\n",
       "85  5.069895  2.363636  1.253260\n",
       "86  1.000000  7.545455  8.107756"
      ]
     },
     "execution_count": 31,
     "metadata": {},
     "output_type": "execute_result"
    }
   ],
   "source": [
    "df1.tail()"
   ]
  },
  {
   "cell_type": "code",
   "execution_count": 39,
   "id": "a94281f2-ef6f-471b-bc3b-08253ae17ad2",
   "metadata": {},
   "outputs": [
    {
     "name": "stderr",
     "output_type": "stream",
     "text": [
      "C:\\Users\\nitpi\\AppData\\Local\\Temp\\ipykernel_12816\\4177098134.py:4: FutureWarning: Calling float on a single element Series is deprecated and will raise a TypeError in the future. Use float(ser.iloc[0]) instead\n",
      "  centroid = df1.apply(lambda x: float(x.sample()))\n"
     ]
    }
   ],
   "source": [
    "centroids = random_centroids(df1,3)"
   ]
  },
  {
   "cell_type": "code",
   "execution_count": 41,
   "id": "25a210b4-86ee-4170-a2ed-becd7aa4f706",
   "metadata": {},
   "outputs": [
    {
     "data": {
      "text/html": [
       "<div>\n",
       "<style scoped>\n",
       "    .dataframe tbody tr th:only-of-type {\n",
       "        vertical-align: middle;\n",
       "    }\n",
       "\n",
       "    .dataframe tbody tr th {\n",
       "        vertical-align: top;\n",
       "    }\n",
       "\n",
       "    .dataframe thead th {\n",
       "        text-align: right;\n",
       "    }\n",
       "</style>\n",
       "<table border=\"1\" class=\"dataframe\">\n",
       "  <thead>\n",
       "    <tr style=\"text-align: right;\">\n",
       "      <th></th>\n",
       "      <th>0</th>\n",
       "      <th>1</th>\n",
       "      <th>2</th>\n",
       "    </tr>\n",
       "  </thead>\n",
       "  <tbody>\n",
       "    <tr>\n",
       "      <th>Profit</th>\n",
       "      <td>4.956211</td>\n",
       "      <td>4.831158</td>\n",
       "      <td>4.941053</td>\n",
       "    </tr>\n",
       "    <tr>\n",
       "      <th>Quantity</th>\n",
       "      <td>2.636364</td>\n",
       "      <td>4.272727</td>\n",
       "      <td>2.090909</td>\n",
       "    </tr>\n",
       "    <tr>\n",
       "      <th>Sales</th>\n",
       "      <td>1.074125</td>\n",
       "      <td>10.000000</td>\n",
       "      <td>1.037062</td>\n",
       "    </tr>\n",
       "  </tbody>\n",
       "</table>\n",
       "</div>"
      ],
      "text/plain": [
       "                 0          1         2\n",
       "Profit    4.956211   4.831158  4.941053\n",
       "Quantity  2.636364   4.272727  2.090909\n",
       "Sales     1.074125  10.000000  1.037062"
      ]
     },
     "execution_count": 41,
     "metadata": {},
     "output_type": "execute_result"
    }
   ],
   "source": [
    "centroids"
   ]
  },
  {
   "cell_type": "code",
   "execution_count": 55,
   "id": "d5a0e219-87cb-4a55-8619-b1e3f4d08d9d",
   "metadata": {},
   "outputs": [],
   "source": [
    "labels = get_labels(df1, centroids)"
   ]
  },
  {
   "cell_type": "code",
   "execution_count": 65,
   "id": "2725467e-9018-40f5-9096-7d2a728f44e4",
   "metadata": {},
   "outputs": [
    {
     "data": {
      "text/plain": [
       "2    44\n",
       "0    40\n",
       "1     3\n",
       "Name: count, dtype: int64"
      ]
     },
     "execution_count": 65,
     "metadata": {},
     "output_type": "execute_result"
    }
   ],
   "source": [
    "labels.value_counts()"
   ]
  },
  {
   "cell_type": "code",
   "execution_count": 99,
   "id": "e33ceb6a-fa6c-439e-98c0-878c7bc1d446",
   "metadata": {},
   "outputs": [
    {
     "data": {
      "image/png": "[encoded data removed]",
      "text/plain": [
       "<Figure size 640x480 with 1 Axes>"
      ]
     },
     "metadata": {},
     "output_type": "display_data"
    }
   ],
   "source": [
    "max_iterations = 100\n",
    "k = 3\n",
    "centroids = random_centroids(df1,k)\n",
    "old_centroids = pd.DataFrame()\n",
    "iteration = 1\n",
    "while iteration < max_iterations and not centroids.equals(old_centroids):\n",
    "    old_centroids = centroids\n",
    "    labels = get_labels(df1,centroids)\n",
    "    centroids = new_centroids(df1,labels, k)\n",
    "    plot_clusters(df1, labels, centroids, iteration)\n",
    "    iteration += 1"
   ]
  },
  {
   "cell_type": "code",
   "execution_count": 101,
   "id": "9b695dd3-ba88-4921-8d90-4c7fca6656e2",
   "metadata": {},
   "outputs": [
    {
     "data": {
      "text/html": [
       "<div>\n",
       "<style scoped>\n",
       "    .dataframe tbody tr th:only-of-type {\n",
       "        vertical-align: middle;\n",
       "    }\n",
       "\n",
       "    .dataframe tbody tr th {\n",
       "        vertical-align: top;\n",
       "    }\n",
       "\n",
       "    .dataframe thead th {\n",
       "        text-align: right;\n",
       "    }\n",
       "</style>\n",
       "<table border=\"1\" class=\"dataframe\">\n",
       "  <thead>\n",
       "    <tr style=\"text-align: right;\">\n",
       "      <th></th>\n",
       "      <th>0</th>\n",
       "      <th>1</th>\n",
       "      <th>2</th>\n",
       "    </tr>\n",
       "  </thead>\n",
       "  <tbody>\n",
       "    <tr>\n",
       "      <th>Profit</th>\n",
       "      <td>4.905796</td>\n",
       "      <td>5.092912</td>\n",
       "      <td>4.854289</td>\n",
       "    </tr>\n",
       "    <tr>\n",
       "      <th>Quantity</th>\n",
       "      <td>1.667467</td>\n",
       "      <td>3.029174</td>\n",
       "      <td>6.749709</td>\n",
       "    </tr>\n",
       "    <tr>\n",
       "      <th>Sales</th>\n",
       "      <td>1.160020</td>\n",
       "      <td>1.698480</td>\n",
       "      <td>3.085284</td>\n",
       "    </tr>\n",
       "  </tbody>\n",
       "</table>\n",
       "</div>"
      ],
      "text/plain": [
       "                 0         1         2\n",
       "Profit    4.905796  5.092912  4.854289\n",
       "Quantity  1.667467  3.029174  6.749709\n",
       "Sales     1.160020  1.698480  3.085284"
      ]
     },
     "execution_count": 101,
     "metadata": {},
     "output_type": "execute_result"
    }
   ],
   "source": [
    "centroids"
   ]
  },
  {
   "cell_type": "code",
   "execution_count": 111,
   "id": "9e12ee5c-3d8d-4e95-bd6c-ce08f8ea694e",
   "metadata": {},
   "outputs": [
    {
     "data": {
      "text/html": [
       "<div>\n",
       "<style scoped>\n",
       "    .dataframe tbody tr th:only-of-type {\n",
       "        vertical-align: middle;\n",
       "    }\n",
       "\n",
       "    .dataframe tbody tr th {\n",
       "        vertical-align: top;\n",
       "    }\n",
       "\n",
       "    .dataframe thead th {\n",
       "        text-align: right;\n",
       "    }\n",
       "</style>\n",
       "<table border=\"1\" class=\"dataframe\">\n",
       "  <thead>\n",
       "    <tr style=\"text-align: right;\">\n",
       "      <th></th>\n",
       "      <th>Customer Name</th>\n",
       "      <th>Profit</th>\n",
       "      <th>Quantity</th>\n",
       "      <th>Sales</th>\n",
       "    </tr>\n",
       "  </thead>\n",
       "  <tbody>\n",
       "    <tr>\n",
       "      <th>5</th>\n",
       "      <td>Maria Etezadi</td>\n",
       "      <td>1342</td>\n",
       "      <td>24</td>\n",
       "      <td>4375</td>\n",
       "    </tr>\n",
       "    <tr>\n",
       "      <th>10</th>\n",
       "      <td>Chris Selesnick</td>\n",
       "      <td>336</td>\n",
       "      <td>24</td>\n",
       "      <td>1353</td>\n",
       "    </tr>\n",
       "    <tr>\n",
       "      <th>12</th>\n",
       "      <td>Brian Dahlen</td>\n",
       "      <td>250</td>\n",
       "      <td>13</td>\n",
       "      <td>1680</td>\n",
       "    </tr>\n",
       "    <tr>\n",
       "      <th>16</th>\n",
       "      <td>Delfina Latchford</td>\n",
       "      <td>-12</td>\n",
       "      <td>30</td>\n",
       "      <td>363</td>\n",
       "    </tr>\n",
       "    <tr>\n",
       "      <th>18</th>\n",
       "      <td>Toby Swindell</td>\n",
       "      <td>-288</td>\n",
       "      <td>24</td>\n",
       "      <td>378</td>\n",
       "    </tr>\n",
       "    <tr>\n",
       "      <th>20</th>\n",
       "      <td>Xylona Preis</td>\n",
       "      <td>184</td>\n",
       "      <td>26</td>\n",
       "      <td>710</td>\n",
       "    </tr>\n",
       "    <tr>\n",
       "      <th>21</th>\n",
       "      <td>Hunter Lopez</td>\n",
       "      <td>438</td>\n",
       "      <td>27</td>\n",
       "      <td>1860</td>\n",
       "    </tr>\n",
       "    <tr>\n",
       "      <th>27</th>\n",
       "      <td>Shirley Daniels</td>\n",
       "      <td>105</td>\n",
       "      <td>34</td>\n",
       "      <td>944</td>\n",
       "    </tr>\n",
       "    <tr>\n",
       "      <th>56</th>\n",
       "      <td>Shahid Collister</td>\n",
       "      <td>-62</td>\n",
       "      <td>20</td>\n",
       "      <td>575</td>\n",
       "    </tr>\n",
       "    <tr>\n",
       "      <th>66</th>\n",
       "      <td>Jill Stevenson</td>\n",
       "      <td>-205</td>\n",
       "      <td>16</td>\n",
       "      <td>362</td>\n",
       "    </tr>\n",
       "    <tr>\n",
       "      <th>69</th>\n",
       "      <td>Aimee Bixby</td>\n",
       "      <td>261</td>\n",
       "      <td>16</td>\n",
       "      <td>707</td>\n",
       "    </tr>\n",
       "    <tr>\n",
       "      <th>71</th>\n",
       "      <td>Craig Molinari</td>\n",
       "      <td>85</td>\n",
       "      <td>18</td>\n",
       "      <td>1145</td>\n",
       "    </tr>\n",
       "    <tr>\n",
       "      <th>82</th>\n",
       "      <td>Jason Fortune-</td>\n",
       "      <td>47</td>\n",
       "      <td>21</td>\n",
       "      <td>280</td>\n",
       "    </tr>\n",
       "    <tr>\n",
       "      <th>86</th>\n",
       "      <td>Christine Phan</td>\n",
       "      <td>-1033</td>\n",
       "      <td>25</td>\n",
       "      <td>3456</td>\n",
       "    </tr>\n",
       "  </tbody>\n",
       "</table>\n",
       "</div>"
      ],
      "text/plain": [
       "        Customer Name  Profit  Quantity  Sales\n",
       "5       Maria Etezadi    1342        24   4375\n",
       "10    Chris Selesnick     336        24   1353\n",
       "12       Brian Dahlen     250        13   1680\n",
       "16  Delfina Latchford     -12        30    363\n",
       "18      Toby Swindell    -288        24    378\n",
       "20       Xylona Preis     184        26    710\n",
       "21       Hunter Lopez     438        27   1860\n",
       "27    Shirley Daniels     105        34    944\n",
       "56   Shahid Collister     -62        20    575\n",
       "66     Jill Stevenson    -205        16    362\n",
       "69        Aimee Bixby     261        16    707\n",
       "71     Craig Molinari      85        18   1145\n",
       "82     Jason Fortune-      47        21    280\n",
       "86     Christine Phan   -1033        25   3456"
      ]
     },
     "execution_count": 111,
     "metadata": {},
     "output_type": "execute_result"
    }
   ],
   "source": [
    "sales[labels ==2]"
   ]
  },
  {
   "cell_type": "code",
   "execution_count": null,
   "id": "438d4d0f-af32-4f8e-837f-3855307438c2",
   "metadata": {},
   "outputs": [],
   "source": []
  }
 ],
 "metadata": {
  "kernelspec": {
   "display_name": "Python 3 (ipykernel)",
   "language": "python",
   "name": "python3"
  },
  "language_info": {
   "codemirror_mode": {
    "name": "ipython",
    "version": 3
   },
   "file_extension": ".py",
   "mimetype": "text/x-python",
   "name": "python",
   "nbconvert_exporter": "python",
   "pygments_lexer": "ipython3",
   "version": "3.12.4"
  }
 },
 "nbformat": 4,
 "nbformat_minor": 5
}
